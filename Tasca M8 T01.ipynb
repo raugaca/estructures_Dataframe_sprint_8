{
 "cells": [
  {
   "cell_type": "markdown",
   "id": "25f35ba5",
   "metadata": {},
   "source": [
    "# Exercici 1\n",
    "Descarrega el dataset adjunt, de registres de publicacions a Facebook sobre Tailàndia, i classifica els diferents registres utilitzant l'algorisme de K-means.\n",
    "\n",
    "Important:\n",
    "Tingues en compte que prèviament et caldrà preparar el dataset."
   ]
  },
  {
   "cell_type": "code",
   "execution_count": 2,
   "id": "e31e810e",
   "metadata": {},
   "outputs": [
    {
     "data": {
      "text/html": [
       "<div>\n",
       "<style scoped>\n",
       "    .dataframe tbody tr th:only-of-type {\n",
       "        vertical-align: middle;\n",
       "    }\n",
       "\n",
       "    .dataframe tbody tr th {\n",
       "        vertical-align: top;\n",
       "    }\n",
       "\n",
       "    .dataframe thead th {\n",
       "        text-align: right;\n",
       "    }\n",
       "</style>\n",
       "<table border=\"1\" class=\"dataframe\">\n",
       "  <thead>\n",
       "    <tr style=\"text-align: right;\">\n",
       "      <th></th>\n",
       "      <th>status_id</th>\n",
       "      <th>status_type</th>\n",
       "      <th>status_published</th>\n",
       "      <th>num_reactions</th>\n",
       "      <th>num_comments</th>\n",
       "      <th>num_shares</th>\n",
       "      <th>num_likes</th>\n",
       "      <th>num_loves</th>\n",
       "      <th>num_wows</th>\n",
       "      <th>num_hahas</th>\n",
       "      <th>num_sads</th>\n",
       "      <th>num_angrys</th>\n",
       "      <th>Column1</th>\n",
       "      <th>Column2</th>\n",
       "      <th>Column3</th>\n",
       "      <th>Column4</th>\n",
       "    </tr>\n",
       "  </thead>\n",
       "  <tbody>\n",
       "    <tr>\n",
       "      <th>0</th>\n",
       "      <td>246675545449582_1649696485147474</td>\n",
       "      <td>video</td>\n",
       "      <td>4/22/2018 6:00</td>\n",
       "      <td>529</td>\n",
       "      <td>512</td>\n",
       "      <td>262</td>\n",
       "      <td>432</td>\n",
       "      <td>92</td>\n",
       "      <td>3</td>\n",
       "      <td>1</td>\n",
       "      <td>1</td>\n",
       "      <td>0</td>\n",
       "      <td>NaN</td>\n",
       "      <td>NaN</td>\n",
       "      <td>NaN</td>\n",
       "      <td>NaN</td>\n",
       "    </tr>\n",
       "    <tr>\n",
       "      <th>1</th>\n",
       "      <td>246675545449582_1649426988507757</td>\n",
       "      <td>photo</td>\n",
       "      <td>4/21/2018 22:45</td>\n",
       "      <td>150</td>\n",
       "      <td>0</td>\n",
       "      <td>0</td>\n",
       "      <td>150</td>\n",
       "      <td>0</td>\n",
       "      <td>0</td>\n",
       "      <td>0</td>\n",
       "      <td>0</td>\n",
       "      <td>0</td>\n",
       "      <td>NaN</td>\n",
       "      <td>NaN</td>\n",
       "      <td>NaN</td>\n",
       "      <td>NaN</td>\n",
       "    </tr>\n",
       "    <tr>\n",
       "      <th>2</th>\n",
       "      <td>246675545449582_1648730588577397</td>\n",
       "      <td>video</td>\n",
       "      <td>4/21/2018 6:17</td>\n",
       "      <td>227</td>\n",
       "      <td>236</td>\n",
       "      <td>57</td>\n",
       "      <td>204</td>\n",
       "      <td>21</td>\n",
       "      <td>1</td>\n",
       "      <td>1</td>\n",
       "      <td>0</td>\n",
       "      <td>0</td>\n",
       "      <td>NaN</td>\n",
       "      <td>NaN</td>\n",
       "      <td>NaN</td>\n",
       "      <td>NaN</td>\n",
       "    </tr>\n",
       "    <tr>\n",
       "      <th>3</th>\n",
       "      <td>246675545449582_1648576705259452</td>\n",
       "      <td>photo</td>\n",
       "      <td>4/21/2018 2:29</td>\n",
       "      <td>111</td>\n",
       "      <td>0</td>\n",
       "      <td>0</td>\n",
       "      <td>111</td>\n",
       "      <td>0</td>\n",
       "      <td>0</td>\n",
       "      <td>0</td>\n",
       "      <td>0</td>\n",
       "      <td>0</td>\n",
       "      <td>NaN</td>\n",
       "      <td>NaN</td>\n",
       "      <td>NaN</td>\n",
       "      <td>NaN</td>\n",
       "    </tr>\n",
       "    <tr>\n",
       "      <th>4</th>\n",
       "      <td>246675545449582_1645700502213739</td>\n",
       "      <td>photo</td>\n",
       "      <td>4/18/2018 3:22</td>\n",
       "      <td>213</td>\n",
       "      <td>0</td>\n",
       "      <td>0</td>\n",
       "      <td>204</td>\n",
       "      <td>9</td>\n",
       "      <td>0</td>\n",
       "      <td>0</td>\n",
       "      <td>0</td>\n",
       "      <td>0</td>\n",
       "      <td>NaN</td>\n",
       "      <td>NaN</td>\n",
       "      <td>NaN</td>\n",
       "      <td>NaN</td>\n",
       "    </tr>\n",
       "  </tbody>\n",
       "</table>\n",
       "</div>"
      ],
      "text/plain": [
       "                          status_id status_type status_published  \\\n",
       "0  246675545449582_1649696485147474       video   4/22/2018 6:00   \n",
       "1  246675545449582_1649426988507757       photo  4/21/2018 22:45   \n",
       "2  246675545449582_1648730588577397       video   4/21/2018 6:17   \n",
       "3  246675545449582_1648576705259452       photo   4/21/2018 2:29   \n",
       "4  246675545449582_1645700502213739       photo   4/18/2018 3:22   \n",
       "\n",
       "   num_reactions  num_comments  num_shares  num_likes  num_loves  num_wows  \\\n",
       "0            529           512         262        432         92         3   \n",
       "1            150             0           0        150          0         0   \n",
       "2            227           236          57        204         21         1   \n",
       "3            111             0           0        111          0         0   \n",
       "4            213             0           0        204          9         0   \n",
       "\n",
       "   num_hahas  num_sads  num_angrys  Column1  Column2  Column3  Column4  \n",
       "0          1         1           0      NaN      NaN      NaN      NaN  \n",
       "1          0         0           0      NaN      NaN      NaN      NaN  \n",
       "2          1         0           0      NaN      NaN      NaN      NaN  \n",
       "3          0         0           0      NaN      NaN      NaN      NaN  \n",
       "4          0         0           0      NaN      NaN      NaN      NaN  "
      ]
     },
     "execution_count": 2,
     "metadata": {},
     "output_type": "execute_result"
    }
   ],
   "source": [
    "import numpy as np\n",
    "import matplotlib.pyplot as plt\n",
    "import pandas as pd\n",
    "import seaborn as sns\n",
    "from scipy import stats\n",
    "\n",
    "\n",
    "from sklearn.cluster import KMeans\n",
    "from sklearn.decomposition import PCA\n",
    "from sklearn.metrics import silhouette_score, adjusted_rand_score\n",
    "from sklearn.pipeline import Pipeline\n",
    "from sklearn.preprocessing import LabelEncoder, MinMaxScaler, StandardScaler, RobustScaler\n",
    "from kneed import KneeLocator\n",
    "\n",
    "Publi_facebook = pd.read_csv('C:\\\\RAUL\\\\NISSAN\\\\GENERAL\\\\USB\\\\FORMACION\\\\BootCamp - Data Scientist_Analist\\\\IT Academy Cibernarium - Data Science\\\\Data Science Itinerario\\\\8.- Alg. NO supervisado. Agrupacion\\\\4.- Entrega\\\\Publicacions Facebook Thailandia.csv')\n",
    "Publi_facebook.head()"
   ]
  },
  {
   "cell_type": "code",
   "execution_count": 3,
   "id": "84282298",
   "metadata": {},
   "outputs": [
    {
     "data": {
      "text/plain": [
       "(7050, 16)"
      ]
     },
     "execution_count": 3,
     "metadata": {},
     "output_type": "execute_result"
    }
   ],
   "source": [
    "Publi_facebook.shape"
   ]
  },
  {
   "cell_type": "code",
   "execution_count": 4,
   "id": "43a7e0bf",
   "metadata": {},
   "outputs": [
    {
     "name": "stdout",
     "output_type": "stream",
     "text": [
      "<class 'pandas.core.frame.DataFrame'>\n",
      "RangeIndex: 7050 entries, 0 to 7049\n",
      "Data columns (total 16 columns):\n",
      " #   Column            Non-Null Count  Dtype  \n",
      "---  ------            --------------  -----  \n",
      " 0   status_id         7050 non-null   object \n",
      " 1   status_type       7050 non-null   object \n",
      " 2   status_published  7050 non-null   object \n",
      " 3   num_reactions     7050 non-null   int64  \n",
      " 4   num_comments      7050 non-null   int64  \n",
      " 5   num_shares        7050 non-null   int64  \n",
      " 6   num_likes         7050 non-null   int64  \n",
      " 7   num_loves         7050 non-null   int64  \n",
      " 8   num_wows          7050 non-null   int64  \n",
      " 9   num_hahas         7050 non-null   int64  \n",
      " 10  num_sads          7050 non-null   int64  \n",
      " 11  num_angrys        7050 non-null   int64  \n",
      " 12  Column1           0 non-null      float64\n",
      " 13  Column2           0 non-null      float64\n",
      " 14  Column3           0 non-null      float64\n",
      " 15  Column4           0 non-null      float64\n",
      "dtypes: float64(4), int64(9), object(3)\n",
      "memory usage: 881.4+ KB\n"
     ]
    }
   ],
   "source": [
    "Publi_facebook.info()"
   ]
  },
  {
   "cell_type": "markdown",
   "id": "4f986605",
   "metadata": {},
   "source": [
    "Podem veure que les 4 últimes columnes estàn vuides per tant les esborrarem per no tenir-les en conte als exercicis.\n",
    "Pel que fa a la resta de camps no numérics tenim els següents:\n",
    "* **status_id:** es tracta d'un codi separat per un guió baix, pel que s'hauria de veure si separant tots dos podem treure més informació.\n",
    "* **status_type:** és una variable categórica que podem transformar en numérica\n",
    "* **status_published:** és la data de publicació però al importar el csv l'ha agafat com a objecte en lloc de data i es podria canviar al format correcte."
   ]
  },
  {
   "cell_type": "code",
   "execution_count": 5,
   "id": "9add2f3a",
   "metadata": {},
   "outputs": [],
   "source": [
    "# status_id: \n",
    "Publi_facebook[['status_id_1', 'status_id_2']]=Publi_facebook['status_id'].str.split('_', expand=True)\n"
   ]
  },
  {
   "cell_type": "code",
   "execution_count": 6,
   "id": "c9799a90",
   "metadata": {},
   "outputs": [],
   "source": [
    "# status_type: \n",
    "# Codifiquem les columnes de 'status_type' que és categòrica\n",
    "le = LabelEncoder()\n",
    "Publi_facebook['status_type'] = le.fit_transform(Publi_facebook['status_type'].values)"
   ]
  },
  {
   "cell_type": "code",
   "execution_count": 7,
   "id": "f329782a",
   "metadata": {},
   "outputs": [],
   "source": [
    "# status_published\n",
    "Publi_facebook['status_published'] = pd.to_datetime(Publi_facebook['status_published'])"
   ]
  },
  {
   "cell_type": "code",
   "execution_count": 8,
   "id": "7ebc91f2",
   "metadata": {},
   "outputs": [
    {
     "name": "stderr",
     "output_type": "stream",
     "text": [
      "C:\\Users\\rauga\\AppData\\Local\\Temp\\ipykernel_19580\\321635728.py:1: FutureWarning: Treating datetime data as categorical rather than numeric in `.describe` is deprecated and will be removed in a future version of pandas. Specify `datetime_is_numeric=True` to silence this warning and adopt the future behavior now.\n",
      "  Publi_facebook.describe(include='all').T\n"
     ]
    },
    {
     "data": {
      "text/html": [
       "<div>\n",
       "<style scoped>\n",
       "    .dataframe tbody tr th:only-of-type {\n",
       "        vertical-align: middle;\n",
       "    }\n",
       "\n",
       "    .dataframe tbody tr th {\n",
       "        vertical-align: top;\n",
       "    }\n",
       "\n",
       "    .dataframe thead th {\n",
       "        text-align: right;\n",
       "    }\n",
       "</style>\n",
       "<table border=\"1\" class=\"dataframe\">\n",
       "  <thead>\n",
       "    <tr style=\"text-align: right;\">\n",
       "      <th></th>\n",
       "      <th>count</th>\n",
       "      <th>unique</th>\n",
       "      <th>top</th>\n",
       "      <th>freq</th>\n",
       "      <th>first</th>\n",
       "      <th>last</th>\n",
       "      <th>mean</th>\n",
       "      <th>std</th>\n",
       "      <th>min</th>\n",
       "      <th>25%</th>\n",
       "      <th>50%</th>\n",
       "      <th>75%</th>\n",
       "      <th>max</th>\n",
       "    </tr>\n",
       "  </thead>\n",
       "  <tbody>\n",
       "    <tr>\n",
       "      <th>status_id</th>\n",
       "      <td>7050</td>\n",
       "      <td>6997</td>\n",
       "      <td>819700534875473_957599447752247</td>\n",
       "      <td>2</td>\n",
       "      <td>NaT</td>\n",
       "      <td>NaT</td>\n",
       "      <td>NaN</td>\n",
       "      <td>NaN</td>\n",
       "      <td>NaN</td>\n",
       "      <td>NaN</td>\n",
       "      <td>NaN</td>\n",
       "      <td>NaN</td>\n",
       "      <td>NaN</td>\n",
       "    </tr>\n",
       "    <tr>\n",
       "      <th>status_type</th>\n",
       "      <td>7050.0</td>\n",
       "      <td>NaN</td>\n",
       "      <td>NaN</td>\n",
       "      <td>NaN</td>\n",
       "      <td>NaT</td>\n",
       "      <td>NaT</td>\n",
       "      <td>1.704965</td>\n",
       "      <td>0.942399</td>\n",
       "      <td>0.0</td>\n",
       "      <td>1.0</td>\n",
       "      <td>1.0</td>\n",
       "      <td>3.0</td>\n",
       "      <td>3.0</td>\n",
       "    </tr>\n",
       "    <tr>\n",
       "      <th>status_published</th>\n",
       "      <td>7050</td>\n",
       "      <td>6913</td>\n",
       "      <td>2018-03-20 01:54:00</td>\n",
       "      <td>3</td>\n",
       "      <td>2012-07-15 02:51:00</td>\n",
       "      <td>2018-06-13 01:12:00</td>\n",
       "      <td>NaN</td>\n",
       "      <td>NaN</td>\n",
       "      <td>NaN</td>\n",
       "      <td>NaN</td>\n",
       "      <td>NaN</td>\n",
       "      <td>NaN</td>\n",
       "      <td>NaN</td>\n",
       "    </tr>\n",
       "    <tr>\n",
       "      <th>num_reactions</th>\n",
       "      <td>7050.0</td>\n",
       "      <td>NaN</td>\n",
       "      <td>NaN</td>\n",
       "      <td>NaN</td>\n",
       "      <td>NaT</td>\n",
       "      <td>NaT</td>\n",
       "      <td>230.117163</td>\n",
       "      <td>462.625309</td>\n",
       "      <td>0.0</td>\n",
       "      <td>17.0</td>\n",
       "      <td>59.5</td>\n",
       "      <td>219.0</td>\n",
       "      <td>4710.0</td>\n",
       "    </tr>\n",
       "    <tr>\n",
       "      <th>num_comments</th>\n",
       "      <td>7050.0</td>\n",
       "      <td>NaN</td>\n",
       "      <td>NaN</td>\n",
       "      <td>NaN</td>\n",
       "      <td>NaT</td>\n",
       "      <td>NaT</td>\n",
       "      <td>224.356028</td>\n",
       "      <td>889.63682</td>\n",
       "      <td>0.0</td>\n",
       "      <td>0.0</td>\n",
       "      <td>4.0</td>\n",
       "      <td>23.0</td>\n",
       "      <td>20990.0</td>\n",
       "    </tr>\n",
       "    <tr>\n",
       "      <th>num_shares</th>\n",
       "      <td>7050.0</td>\n",
       "      <td>NaN</td>\n",
       "      <td>NaN</td>\n",
       "      <td>NaN</td>\n",
       "      <td>NaT</td>\n",
       "      <td>NaT</td>\n",
       "      <td>40.022553</td>\n",
       "      <td>131.599965</td>\n",
       "      <td>0.0</td>\n",
       "      <td>0.0</td>\n",
       "      <td>0.0</td>\n",
       "      <td>4.0</td>\n",
       "      <td>3424.0</td>\n",
       "    </tr>\n",
       "    <tr>\n",
       "      <th>num_likes</th>\n",
       "      <td>7050.0</td>\n",
       "      <td>NaN</td>\n",
       "      <td>NaN</td>\n",
       "      <td>NaN</td>\n",
       "      <td>NaT</td>\n",
       "      <td>NaT</td>\n",
       "      <td>215.043121</td>\n",
       "      <td>449.472357</td>\n",
       "      <td>0.0</td>\n",
       "      <td>17.0</td>\n",
       "      <td>58.0</td>\n",
       "      <td>184.75</td>\n",
       "      <td>4710.0</td>\n",
       "    </tr>\n",
       "    <tr>\n",
       "      <th>num_loves</th>\n",
       "      <td>7050.0</td>\n",
       "      <td>NaN</td>\n",
       "      <td>NaN</td>\n",
       "      <td>NaN</td>\n",
       "      <td>NaT</td>\n",
       "      <td>NaT</td>\n",
       "      <td>12.728652</td>\n",
       "      <td>39.97293</td>\n",
       "      <td>0.0</td>\n",
       "      <td>0.0</td>\n",
       "      <td>0.0</td>\n",
       "      <td>3.0</td>\n",
       "      <td>657.0</td>\n",
       "    </tr>\n",
       "    <tr>\n",
       "      <th>num_wows</th>\n",
       "      <td>7050.0</td>\n",
       "      <td>NaN</td>\n",
       "      <td>NaN</td>\n",
       "      <td>NaN</td>\n",
       "      <td>NaT</td>\n",
       "      <td>NaT</td>\n",
       "      <td>1.289362</td>\n",
       "      <td>8.71965</td>\n",
       "      <td>0.0</td>\n",
       "      <td>0.0</td>\n",
       "      <td>0.0</td>\n",
       "      <td>0.0</td>\n",
       "      <td>278.0</td>\n",
       "    </tr>\n",
       "    <tr>\n",
       "      <th>num_hahas</th>\n",
       "      <td>7050.0</td>\n",
       "      <td>NaN</td>\n",
       "      <td>NaN</td>\n",
       "      <td>NaN</td>\n",
       "      <td>NaT</td>\n",
       "      <td>NaT</td>\n",
       "      <td>0.696454</td>\n",
       "      <td>3.957183</td>\n",
       "      <td>0.0</td>\n",
       "      <td>0.0</td>\n",
       "      <td>0.0</td>\n",
       "      <td>0.0</td>\n",
       "      <td>157.0</td>\n",
       "    </tr>\n",
       "    <tr>\n",
       "      <th>num_sads</th>\n",
       "      <td>7050.0</td>\n",
       "      <td>NaN</td>\n",
       "      <td>NaN</td>\n",
       "      <td>NaN</td>\n",
       "      <td>NaT</td>\n",
       "      <td>NaT</td>\n",
       "      <td>0.243688</td>\n",
       "      <td>1.597156</td>\n",
       "      <td>0.0</td>\n",
       "      <td>0.0</td>\n",
       "      <td>0.0</td>\n",
       "      <td>0.0</td>\n",
       "      <td>51.0</td>\n",
       "    </tr>\n",
       "    <tr>\n",
       "      <th>num_angrys</th>\n",
       "      <td>7050.0</td>\n",
       "      <td>NaN</td>\n",
       "      <td>NaN</td>\n",
       "      <td>NaN</td>\n",
       "      <td>NaT</td>\n",
       "      <td>NaT</td>\n",
       "      <td>0.113191</td>\n",
       "      <td>0.726812</td>\n",
       "      <td>0.0</td>\n",
       "      <td>0.0</td>\n",
       "      <td>0.0</td>\n",
       "      <td>0.0</td>\n",
       "      <td>31.0</td>\n",
       "    </tr>\n",
       "    <tr>\n",
       "      <th>Column1</th>\n",
       "      <td>0.0</td>\n",
       "      <td>NaN</td>\n",
       "      <td>NaN</td>\n",
       "      <td>NaN</td>\n",
       "      <td>NaT</td>\n",
       "      <td>NaT</td>\n",
       "      <td>NaN</td>\n",
       "      <td>NaN</td>\n",
       "      <td>NaN</td>\n",
       "      <td>NaN</td>\n",
       "      <td>NaN</td>\n",
       "      <td>NaN</td>\n",
       "      <td>NaN</td>\n",
       "    </tr>\n",
       "    <tr>\n",
       "      <th>Column2</th>\n",
       "      <td>0.0</td>\n",
       "      <td>NaN</td>\n",
       "      <td>NaN</td>\n",
       "      <td>NaN</td>\n",
       "      <td>NaT</td>\n",
       "      <td>NaT</td>\n",
       "      <td>NaN</td>\n",
       "      <td>NaN</td>\n",
       "      <td>NaN</td>\n",
       "      <td>NaN</td>\n",
       "      <td>NaN</td>\n",
       "      <td>NaN</td>\n",
       "      <td>NaN</td>\n",
       "    </tr>\n",
       "    <tr>\n",
       "      <th>Column3</th>\n",
       "      <td>0.0</td>\n",
       "      <td>NaN</td>\n",
       "      <td>NaN</td>\n",
       "      <td>NaN</td>\n",
       "      <td>NaT</td>\n",
       "      <td>NaT</td>\n",
       "      <td>NaN</td>\n",
       "      <td>NaN</td>\n",
       "      <td>NaN</td>\n",
       "      <td>NaN</td>\n",
       "      <td>NaN</td>\n",
       "      <td>NaN</td>\n",
       "      <td>NaN</td>\n",
       "    </tr>\n",
       "    <tr>\n",
       "      <th>Column4</th>\n",
       "      <td>0.0</td>\n",
       "      <td>NaN</td>\n",
       "      <td>NaN</td>\n",
       "      <td>NaN</td>\n",
       "      <td>NaT</td>\n",
       "      <td>NaT</td>\n",
       "      <td>NaN</td>\n",
       "      <td>NaN</td>\n",
       "      <td>NaN</td>\n",
       "      <td>NaN</td>\n",
       "      <td>NaN</td>\n",
       "      <td>NaN</td>\n",
       "      <td>NaN</td>\n",
       "    </tr>\n",
       "    <tr>\n",
       "      <th>status_id_1</th>\n",
       "      <td>7050</td>\n",
       "      <td>9</td>\n",
       "      <td>246675545449582</td>\n",
       "      <td>2635</td>\n",
       "      <td>NaT</td>\n",
       "      <td>NaT</td>\n",
       "      <td>NaN</td>\n",
       "      <td>NaN</td>\n",
       "      <td>NaN</td>\n",
       "      <td>NaN</td>\n",
       "      <td>NaN</td>\n",
       "      <td>NaN</td>\n",
       "      <td>NaN</td>\n",
       "    </tr>\n",
       "    <tr>\n",
       "      <th>status_id_2</th>\n",
       "      <td>7050</td>\n",
       "      <td>6997</td>\n",
       "      <td>957599447752247</td>\n",
       "      <td>2</td>\n",
       "      <td>NaT</td>\n",
       "      <td>NaT</td>\n",
       "      <td>NaN</td>\n",
       "      <td>NaN</td>\n",
       "      <td>NaN</td>\n",
       "      <td>NaN</td>\n",
       "      <td>NaN</td>\n",
       "      <td>NaN</td>\n",
       "      <td>NaN</td>\n",
       "    </tr>\n",
       "  </tbody>\n",
       "</table>\n",
       "</div>"
      ],
      "text/plain": [
       "                   count unique                              top  freq  \\\n",
       "status_id           7050   6997  819700534875473_957599447752247     2   \n",
       "status_type       7050.0    NaN                              NaN   NaN   \n",
       "status_published    7050   6913              2018-03-20 01:54:00     3   \n",
       "num_reactions     7050.0    NaN                              NaN   NaN   \n",
       "num_comments      7050.0    NaN                              NaN   NaN   \n",
       "num_shares        7050.0    NaN                              NaN   NaN   \n",
       "num_likes         7050.0    NaN                              NaN   NaN   \n",
       "num_loves         7050.0    NaN                              NaN   NaN   \n",
       "num_wows          7050.0    NaN                              NaN   NaN   \n",
       "num_hahas         7050.0    NaN                              NaN   NaN   \n",
       "num_sads          7050.0    NaN                              NaN   NaN   \n",
       "num_angrys        7050.0    NaN                              NaN   NaN   \n",
       "Column1              0.0    NaN                              NaN   NaN   \n",
       "Column2              0.0    NaN                              NaN   NaN   \n",
       "Column3              0.0    NaN                              NaN   NaN   \n",
       "Column4              0.0    NaN                              NaN   NaN   \n",
       "status_id_1         7050      9                  246675545449582  2635   \n",
       "status_id_2         7050   6997                  957599447752247     2   \n",
       "\n",
       "                               first                last        mean  \\\n",
       "status_id                        NaT                 NaT         NaN   \n",
       "status_type                      NaT                 NaT    1.704965   \n",
       "status_published 2012-07-15 02:51:00 2018-06-13 01:12:00         NaN   \n",
       "num_reactions                    NaT                 NaT  230.117163   \n",
       "num_comments                     NaT                 NaT  224.356028   \n",
       "num_shares                       NaT                 NaT   40.022553   \n",
       "num_likes                        NaT                 NaT  215.043121   \n",
       "num_loves                        NaT                 NaT   12.728652   \n",
       "num_wows                         NaT                 NaT    1.289362   \n",
       "num_hahas                        NaT                 NaT    0.696454   \n",
       "num_sads                         NaT                 NaT    0.243688   \n",
       "num_angrys                       NaT                 NaT    0.113191   \n",
       "Column1                          NaT                 NaT         NaN   \n",
       "Column2                          NaT                 NaT         NaN   \n",
       "Column3                          NaT                 NaT         NaN   \n",
       "Column4                          NaT                 NaT         NaN   \n",
       "status_id_1                      NaT                 NaT         NaN   \n",
       "status_id_2                      NaT                 NaT         NaN   \n",
       "\n",
       "                         std  min   25%   50%     75%      max  \n",
       "status_id                NaN  NaN   NaN   NaN     NaN      NaN  \n",
       "status_type         0.942399  0.0   1.0   1.0     3.0      3.0  \n",
       "status_published         NaN  NaN   NaN   NaN     NaN      NaN  \n",
       "num_reactions     462.625309  0.0  17.0  59.5   219.0   4710.0  \n",
       "num_comments       889.63682  0.0   0.0   4.0    23.0  20990.0  \n",
       "num_shares        131.599965  0.0   0.0   0.0     4.0   3424.0  \n",
       "num_likes         449.472357  0.0  17.0  58.0  184.75   4710.0  \n",
       "num_loves           39.97293  0.0   0.0   0.0     3.0    657.0  \n",
       "num_wows             8.71965  0.0   0.0   0.0     0.0    278.0  \n",
       "num_hahas           3.957183  0.0   0.0   0.0     0.0    157.0  \n",
       "num_sads            1.597156  0.0   0.0   0.0     0.0     51.0  \n",
       "num_angrys          0.726812  0.0   0.0   0.0     0.0     31.0  \n",
       "Column1                  NaN  NaN   NaN   NaN     NaN      NaN  \n",
       "Column2                  NaN  NaN   NaN   NaN     NaN      NaN  \n",
       "Column3                  NaN  NaN   NaN   NaN     NaN      NaN  \n",
       "Column4                  NaN  NaN   NaN   NaN     NaN      NaN  \n",
       "status_id_1              NaN  NaN   NaN   NaN     NaN      NaN  \n",
       "status_id_2              NaN  NaN   NaN   NaN     NaN      NaN  "
      ]
     },
     "execution_count": 8,
     "metadata": {},
     "output_type": "execute_result"
    }
   ],
   "source": [
    "Publi_facebook.describe(include='all').T"
   ]
  },
  {
   "cell_type": "code",
   "execution_count": 9,
   "id": "5a495c28",
   "metadata": {},
   "outputs": [
    {
     "data": {
      "text/html": [
       "<div>\n",
       "<style scoped>\n",
       "    .dataframe tbody tr th:only-of-type {\n",
       "        vertical-align: middle;\n",
       "    }\n",
       "\n",
       "    .dataframe tbody tr th {\n",
       "        vertical-align: top;\n",
       "    }\n",
       "\n",
       "    .dataframe thead th {\n",
       "        text-align: right;\n",
       "    }\n",
       "</style>\n",
       "<table border=\"1\" class=\"dataframe\">\n",
       "  <thead>\n",
       "    <tr style=\"text-align: right;\">\n",
       "      <th></th>\n",
       "      <th>status_id</th>\n",
       "      <th>status_type</th>\n",
       "      <th>status_published</th>\n",
       "      <th>num_reactions</th>\n",
       "      <th>num_comments</th>\n",
       "      <th>num_shares</th>\n",
       "      <th>num_likes</th>\n",
       "      <th>num_loves</th>\n",
       "      <th>num_wows</th>\n",
       "      <th>num_hahas</th>\n",
       "      <th>num_sads</th>\n",
       "      <th>num_angrys</th>\n",
       "      <th>Column1</th>\n",
       "      <th>Column2</th>\n",
       "      <th>Column3</th>\n",
       "      <th>Column4</th>\n",
       "      <th>status_id_1</th>\n",
       "      <th>status_id_2</th>\n",
       "    </tr>\n",
       "  </thead>\n",
       "  <tbody>\n",
       "    <tr>\n",
       "      <th>0</th>\n",
       "      <td>246675545449582_1649696485147474</td>\n",
       "      <td>3</td>\n",
       "      <td>2018-04-22 06:00:00</td>\n",
       "      <td>529</td>\n",
       "      <td>512</td>\n",
       "      <td>262</td>\n",
       "      <td>432</td>\n",
       "      <td>92</td>\n",
       "      <td>3</td>\n",
       "      <td>1</td>\n",
       "      <td>1</td>\n",
       "      <td>0</td>\n",
       "      <td>NaN</td>\n",
       "      <td>NaN</td>\n",
       "      <td>NaN</td>\n",
       "      <td>NaN</td>\n",
       "      <td>246675545449582</td>\n",
       "      <td>1649696485147474</td>\n",
       "    </tr>\n",
       "    <tr>\n",
       "      <th>1</th>\n",
       "      <td>246675545449582_1649426988507757</td>\n",
       "      <td>1</td>\n",
       "      <td>2018-04-21 22:45:00</td>\n",
       "      <td>150</td>\n",
       "      <td>0</td>\n",
       "      <td>0</td>\n",
       "      <td>150</td>\n",
       "      <td>0</td>\n",
       "      <td>0</td>\n",
       "      <td>0</td>\n",
       "      <td>0</td>\n",
       "      <td>0</td>\n",
       "      <td>NaN</td>\n",
       "      <td>NaN</td>\n",
       "      <td>NaN</td>\n",
       "      <td>NaN</td>\n",
       "      <td>246675545449582</td>\n",
       "      <td>1649426988507757</td>\n",
       "    </tr>\n",
       "    <tr>\n",
       "      <th>2</th>\n",
       "      <td>246675545449582_1648730588577397</td>\n",
       "      <td>3</td>\n",
       "      <td>2018-04-21 06:17:00</td>\n",
       "      <td>227</td>\n",
       "      <td>236</td>\n",
       "      <td>57</td>\n",
       "      <td>204</td>\n",
       "      <td>21</td>\n",
       "      <td>1</td>\n",
       "      <td>1</td>\n",
       "      <td>0</td>\n",
       "      <td>0</td>\n",
       "      <td>NaN</td>\n",
       "      <td>NaN</td>\n",
       "      <td>NaN</td>\n",
       "      <td>NaN</td>\n",
       "      <td>246675545449582</td>\n",
       "      <td>1648730588577397</td>\n",
       "    </tr>\n",
       "    <tr>\n",
       "      <th>3</th>\n",
       "      <td>246675545449582_1648576705259452</td>\n",
       "      <td>1</td>\n",
       "      <td>2018-04-21 02:29:00</td>\n",
       "      <td>111</td>\n",
       "      <td>0</td>\n",
       "      <td>0</td>\n",
       "      <td>111</td>\n",
       "      <td>0</td>\n",
       "      <td>0</td>\n",
       "      <td>0</td>\n",
       "      <td>0</td>\n",
       "      <td>0</td>\n",
       "      <td>NaN</td>\n",
       "      <td>NaN</td>\n",
       "      <td>NaN</td>\n",
       "      <td>NaN</td>\n",
       "      <td>246675545449582</td>\n",
       "      <td>1648576705259452</td>\n",
       "    </tr>\n",
       "    <tr>\n",
       "      <th>4</th>\n",
       "      <td>246675545449582_1645700502213739</td>\n",
       "      <td>1</td>\n",
       "      <td>2018-04-18 03:22:00</td>\n",
       "      <td>213</td>\n",
       "      <td>0</td>\n",
       "      <td>0</td>\n",
       "      <td>204</td>\n",
       "      <td>9</td>\n",
       "      <td>0</td>\n",
       "      <td>0</td>\n",
       "      <td>0</td>\n",
       "      <td>0</td>\n",
       "      <td>NaN</td>\n",
       "      <td>NaN</td>\n",
       "      <td>NaN</td>\n",
       "      <td>NaN</td>\n",
       "      <td>246675545449582</td>\n",
       "      <td>1645700502213739</td>\n",
       "    </tr>\n",
       "  </tbody>\n",
       "</table>\n",
       "</div>"
      ],
      "text/plain": [
       "                          status_id  status_type    status_published  \\\n",
       "0  246675545449582_1649696485147474            3 2018-04-22 06:00:00   \n",
       "1  246675545449582_1649426988507757            1 2018-04-21 22:45:00   \n",
       "2  246675545449582_1648730588577397            3 2018-04-21 06:17:00   \n",
       "3  246675545449582_1648576705259452            1 2018-04-21 02:29:00   \n",
       "4  246675545449582_1645700502213739            1 2018-04-18 03:22:00   \n",
       "\n",
       "   num_reactions  num_comments  num_shares  num_likes  num_loves  num_wows  \\\n",
       "0            529           512         262        432         92         3   \n",
       "1            150             0           0        150          0         0   \n",
       "2            227           236          57        204         21         1   \n",
       "3            111             0           0        111          0         0   \n",
       "4            213             0           0        204          9         0   \n",
       "\n",
       "   num_hahas  num_sads  num_angrys  Column1  Column2  Column3  Column4  \\\n",
       "0          1         1           0      NaN      NaN      NaN      NaN   \n",
       "1          0         0           0      NaN      NaN      NaN      NaN   \n",
       "2          1         0           0      NaN      NaN      NaN      NaN   \n",
       "3          0         0           0      NaN      NaN      NaN      NaN   \n",
       "4          0         0           0      NaN      NaN      NaN      NaN   \n",
       "\n",
       "       status_id_1       status_id_2  \n",
       "0  246675545449582  1649696485147474  \n",
       "1  246675545449582  1649426988507757  \n",
       "2  246675545449582  1648730588577397  \n",
       "3  246675545449582  1648576705259452  \n",
       "4  246675545449582  1645700502213739  "
      ]
     },
     "execution_count": 9,
     "metadata": {},
     "output_type": "execute_result"
    }
   ],
   "source": [
    "Publi_facebook.head()"
   ]
  },
  {
   "cell_type": "markdown",
   "id": "380bddb1",
   "metadata": {},
   "source": [
    "Després de fer els canvis sobre els camps indicats, veiem que dels dos fragments corresponents al id, un dells té una diversitat de 9 per tant podria ser util pels següents passos. En canvi el id original i el segon fragment a priori no aportant res i per tant els eliminarem juntament amb les 4 columnes finals. "
   ]
  },
  {
   "cell_type": "code",
   "execution_count": 10,
   "id": "cfdf82cf",
   "metadata": {},
   "outputs": [],
   "source": [
    "# Eliminem les columnes buides o que no aporten res al model.\n",
    "Publi_facebook.drop(['status_id', 'status_id_2', 'Column1', 'Column2', 'Column3', 'Column4'], axis=1, inplace=True)"
   ]
  },
  {
   "cell_type": "code",
   "execution_count": 11,
   "id": "9c32a4a0",
   "metadata": {},
   "outputs": [],
   "source": [
    "# Per simplificar, codificarem els valors del camp 'status id_1'\n",
    "Publi_facebook['status_id_1'] = le.fit_transform(Publi_facebook['status_id_1'].values)"
   ]
  },
  {
   "cell_type": "code",
   "execution_count": 12,
   "id": "64900c5d",
   "metadata": {},
   "outputs": [
    {
     "data": {
      "text/html": [
       "<div>\n",
       "<style scoped>\n",
       "    .dataframe tbody tr th:only-of-type {\n",
       "        vertical-align: middle;\n",
       "    }\n",
       "\n",
       "    .dataframe tbody tr th {\n",
       "        vertical-align: top;\n",
       "    }\n",
       "\n",
       "    .dataframe thead th {\n",
       "        text-align: right;\n",
       "    }\n",
       "</style>\n",
       "<table border=\"1\" class=\"dataframe\">\n",
       "  <thead>\n",
       "    <tr style=\"text-align: right;\">\n",
       "      <th></th>\n",
       "      <th>status_type</th>\n",
       "      <th>status_published</th>\n",
       "      <th>status_id_1</th>\n",
       "    </tr>\n",
       "  </thead>\n",
       "  <tbody>\n",
       "    <tr>\n",
       "      <th>0</th>\n",
       "      <td>3</td>\n",
       "      <td>2018-04-22 06:00:00</td>\n",
       "      <td>4</td>\n",
       "    </tr>\n",
       "    <tr>\n",
       "      <th>1</th>\n",
       "      <td>1</td>\n",
       "      <td>2018-04-21 22:45:00</td>\n",
       "      <td>4</td>\n",
       "    </tr>\n",
       "    <tr>\n",
       "      <th>2</th>\n",
       "      <td>3</td>\n",
       "      <td>2018-04-21 06:17:00</td>\n",
       "      <td>4</td>\n",
       "    </tr>\n",
       "    <tr>\n",
       "      <th>3</th>\n",
       "      <td>1</td>\n",
       "      <td>2018-04-21 02:29:00</td>\n",
       "      <td>4</td>\n",
       "    </tr>\n",
       "    <tr>\n",
       "      <th>4</th>\n",
       "      <td>1</td>\n",
       "      <td>2018-04-18 03:22:00</td>\n",
       "      <td>4</td>\n",
       "    </tr>\n",
       "  </tbody>\n",
       "</table>\n",
       "</div>"
      ],
      "text/plain": [
       "   status_type    status_published  status_id_1\n",
       "0            3 2018-04-22 06:00:00            4\n",
       "1            1 2018-04-21 22:45:00            4\n",
       "2            3 2018-04-21 06:17:00            4\n",
       "3            1 2018-04-21 02:29:00            4\n",
       "4            1 2018-04-18 03:22:00            4"
      ]
     },
     "execution_count": 12,
     "metadata": {},
     "output_type": "execute_result"
    }
   ],
   "source": [
    "Publi_facebook[['status_type', 'status_published', 'status_id_1']].head()"
   ]
  },
  {
   "cell_type": "code",
   "execution_count": 13,
   "id": "976f5615",
   "metadata": {},
   "outputs": [
    {
     "name": "stdout",
     "output_type": "stream",
     "text": [
      "<class 'pandas.core.frame.DataFrame'>\n",
      "RangeIndex: 7050 entries, 0 to 7049\n",
      "Data columns (total 3 columns):\n",
      " #   Column            Non-Null Count  Dtype         \n",
      "---  ------            --------------  -----         \n",
      " 0   status_type       7050 non-null   int32         \n",
      " 1   status_published  7050 non-null   datetime64[ns]\n",
      " 2   status_id_1       7050 non-null   int32         \n",
      "dtypes: datetime64[ns](1), int32(2)\n",
      "memory usage: 110.3 KB\n"
     ]
    }
   ],
   "source": [
    "Publi_facebook[['status_type', 'status_published', 'status_id_1']].info()"
   ]
  },
  {
   "cell_type": "code",
   "execution_count": 14,
   "id": "8a0704cb",
   "metadata": {},
   "outputs": [
    {
     "data": {
      "text/plain": [
       "(7050, 12)"
      ]
     },
     "execution_count": 14,
     "metadata": {},
     "output_type": "execute_result"
    }
   ],
   "source": [
    "Publi_facebook.shape"
   ]
  },
  {
   "cell_type": "code",
   "execution_count": 15,
   "id": "6b38049b",
   "metadata": {},
   "outputs": [
    {
     "data": {
      "image/png": "[encoded data removed]",
      "text/plain": [
       "<Figure size 1440x720 with 12 Axes>"
      ]
     },
     "metadata": {
      "needs_background": "light"
     },
     "output_type": "display_data"
    }
   ],
   "source": [
    "# Fem gràfic de Boxplot de tots els camps del dataframe menys 'status_published' que són dates\n",
    "\n",
    "fig, axs = plt.subplots(ncols=6, nrows=2, figsize=(20, 10))\n",
    "index = 0\n",
    "axs = axs.flatten()\n",
    "for k,v in Publi_facebook[Publi_facebook.columns.drop('status_published')].items():\n",
    "    sns.boxplot(y=k, data=Publi_facebook[Publi_facebook.columns.drop('status_published')], ax=axs[index])\n",
    "    index += 1\n",
    "\n",
    "axs[-1].axis('off') #Esborrem els exios de l'últim gràfic\n",
    "plt.tight_layout(pad=0.4, w_pad=0.5, h_pad=5.0)"
   ]
  },
  {
   "cell_type": "markdown",
   "id": "ee98ecac",
   "metadata": {},
   "source": [
    "La majoria dels camps ténen outliers, per tant s'haurà de tenir en conte a l'hora de fer l'scalat."
   ]
  },
  {
   "cell_type": "code",
   "execution_count": 16,
   "id": "d0c745ec",
   "metadata": {},
   "outputs": [
    {
     "data": {
      "text/plain": [
       "Text(0.5, 1.0, 'Matriu de Correl.lació')"
      ]
     },
     "execution_count": 16,
     "metadata": {},
     "output_type": "execute_result"
    },
    {
     "data": {
      "image/png": "[encoded data removed]",
      "text/plain": [
       "<Figure size 720x576 with 2 Axes>"
      ]
     },
     "metadata": {
      "needs_background": "light"
     },
     "output_type": "display_data"
    }
   ],
   "source": [
    "correletion= Publi_facebook.corr().round(4)\n",
    "\n",
    "f, axes = plt.subplots(1, 1, figsize=(10, 8))\n",
    "\n",
    "ax0=sns.heatmap(correletion, fmt='.2f', annot=True, cbar=True, annot_kws={'size':10}, cmap='Greens')\n",
    "ax0.set_xticklabels(ax0.get_xticklabels(),rotation=90)\n",
    "ax0.set_yticklabels(ax0.get_yticklabels(),rotation=0)\n",
    "ax0.set_title(\"Matriu de Correl.lació\")"
   ]
  },
  {
   "cell_type": "markdown",
   "id": "95ad1756",
   "metadata": {},
   "source": [
    "Revisant la matriu de correl.lació trobem que hi ha una relació directa entre el num_reactions i el num_likes. També hi ha una relació molt forta entre el num_likes i num_shares."
   ]
  },
  {
   "cell_type": "markdown",
   "id": "2471cda1",
   "metadata": {},
   "source": [
    "* **Escalat:** com que he vist que gairebé tots els camps ténen outliers, aplicarem el RobustScaler que és més adient"
   ]
  },
  {
   "cell_type": "code",
   "execution_count": 17,
   "id": "dc685edd",
   "metadata": {},
   "outputs": [],
   "source": [
    "# Fem escalat de les dades sense tenir en conte el camp de 'status_published'\n",
    "Publi_facebook_net=Publi_facebook[Publi_facebook.columns.drop('status_published')]\n",
    "\n",
    "scaled_features = RobustScaler().fit_transform(Publi_facebook_net)\n",
    "Publi_facebook_scaled = pd.DataFrame(scaled_features, columns=Publi_facebook_net.columns) #Fem un df amb les dades escalades"
   ]
  },
  {
   "cell_type": "markdown",
   "id": "64cc8888",
   "metadata": {},
   "source": [
    "* **PCA:** apliquem el PCA per millorar la velocitat de l'agoritme"
   ]
  },
  {
   "cell_type": "code",
   "execution_count": 18,
   "id": "e7b0898e",
   "metadata": {},
   "outputs": [
    {
     "data": {
      "image/png": "[encoded data removed]",
      "text/plain": [
       "<Figure size 720x360 with 1 Axes>"
      ]
     },
     "metadata": {
      "needs_background": "light"
     },
     "output_type": "display_data"
    }
   ],
   "source": [
    "pca = PCA().fit(Publi_facebook_scaled)\n",
    "\n",
    "plt.figure(figsize=(10,5))\n",
    "ax=plt.plot(np.cumsum(pca.explained_variance_ratio_), marker='o', linestyle='-')\n",
    "plt.xticks(range(1,10))\n",
    "plt.axhline(y = np.cumsum(pca.explained_variance_ratio_)[3], color = 'red', linewidth =2, ls = ':' )\n",
    "plt.grid()\n",
    "plt.xlabel('Number of PCA components')\n",
    "plt.ylabel('Cumulative explained variance');"
   ]
  },
  {
   "cell_type": "code",
   "execution_count": 19,
   "id": "8825b403",
   "metadata": {},
   "outputs": [],
   "source": [
    "valors_pca= PCA(n_components=10).fit(Publi_facebook_scaled)\n",
    "valors_pca.explained_variance_ratio_.cumsum()\n",
    "\n",
    "# Veiem que un valor de n=4 aconseguim reterin un 99% de la variança, per tant farem servir n=4 pel nostre model\n",
    "pca_final= PCA(n_components=4).fit_transform(Publi_facebook_scaled)\n",
    "Publi_facebook_pca = pd.DataFrame(pca_final, columns=['Component_1','Component_2','Component_3','Component_4'])"
   ]
  },
  {
   "cell_type": "markdown",
   "id": "a2b973d2",
   "metadata": {},
   "source": [
    "## K-Means Model"
   ]
  },
  {
   "cell_type": "markdown",
   "id": "1daede86",
   "metadata": {},
   "source": [
    "* Elbow method"
   ]
  },
  {
   "cell_type": "code",
   "execution_count": 20,
   "id": "d9cc855e",
   "metadata": {},
   "outputs": [],
   "source": [
    "# Apliquem el model K-means de forma iterada per trobar el valor óptim del nombre de clusters en funció del SSE\n",
    "kmeans_kwargs = {\n",
    "                \"init\": \"random\",\n",
    "                \"n_init\": 10,\n",
    "                \"max_iter\": 300,\n",
    "                \"random_state\": 42,\n",
    "                }\n",
    "\n",
    "# Fem la llista dels valors de SSE per cada k\n",
    "sse = []\n",
    "for k in range(1, 11):\n",
    "    kmeans = KMeans(n_clusters=k, **kmeans_kwargs)\n",
    "    kmeans.fit(Publi_facebook_pca)\n",
    "    sse.append(kmeans.inertia_)"
   ]
  },
  {
   "cell_type": "code",
   "execution_count": 21,
   "id": "be72ec8f",
   "metadata": {},
   "outputs": [
    {
     "data": {
      "image/png": "[encoded data removed]",
      "text/plain": [
       "<Figure size 432x288 with 1 Axes>"
      ]
     },
     "metadata": {
      "needs_background": "light"
     },
     "output_type": "display_data"
    }
   ],
   "source": [
    "plt.plot(range(1, 11), sse, marker='o', linestyle='-')\n",
    "plt.xticks(range(1, 11))\n",
    "plt.xlabel(\"Number of Clusters\")\n",
    "plt.ylabel(\"SSE\")\n",
    "plt.show()"
   ]
  },
  {
   "cell_type": "markdown",
   "id": "f73b0d44",
   "metadata": {},
   "source": [
    "Visualment sembla que el nombre de cluster a triar seria 3, pero ho reconfirmem amb el KneeLocator"
   ]
  },
  {
   "cell_type": "code",
   "execution_count": 22,
   "id": "e31b01a9",
   "metadata": {},
   "outputs": [
    {
     "data": {
      "text/plain": [
       "3"
      ]
     },
     "execution_count": 22,
     "metadata": {},
     "output_type": "execute_result"
    }
   ],
   "source": [
    "kl = KneeLocator(range(1, 11), sse, curve=\"convex\", direction=\"decreasing\")\n",
    "kl.elbow"
   ]
  },
  {
   "cell_type": "markdown",
   "id": "d7d11d1d",
   "metadata": {},
   "source": [
    "# Exercici 2\n",
    "Classifica els diferents registres utilitzant l'algorisme de clustering jeràrquic."
   ]
  },
  {
   "cell_type": "code",
   "execution_count": 23,
   "id": "7ded055f",
   "metadata": {},
   "outputs": [],
   "source": [
    "# En aquest cas podem partir ja de les dades preprocesades escalades i passades pel PCA per fer el model jeràrquic"
   ]
  },
  {
   "cell_type": "code",
   "execution_count": 24,
   "id": "c5e48a35",
   "metadata": {},
   "outputs": [
    {
     "data": {
      "text/plain": [
       "<matplotlib.lines.Line2D at 0x1ea4b4ed760>"
      ]
     },
     "execution_count": 24,
     "metadata": {},
     "output_type": "execute_result"
    },
    {
     "data": {
      "image/png": "[encoded data removed]",
      "text/plain": [
       "<Figure size 720x504 with 1 Axes>"
      ]
     },
     "metadata": {
      "needs_background": "light"
     },
     "output_type": "display_data"
    }
   ],
   "source": [
    "# Començem fent un dendograma per decidir el nombre de clusters\n",
    "import scipy.cluster.hierarchy as shc\n",
    "\n",
    "plt.figure(figsize=(10, 7))  \n",
    "plt.title(\"Dendrograms\")  \n",
    "dend = shc.dendrogram(shc.linkage(Publi_facebook_scaled, method='ward'))\n",
    "plt.axhline(y=4400, color='r', linestyle='--')\n",
    "plt.axhline(y=2350, color='r', linestyle='--')"
   ]
  },
  {
   "cell_type": "code",
   "execution_count": 25,
   "id": "d044acf4",
   "metadata": {},
   "outputs": [
    {
     "data": {
      "text/plain": [
       "array([1, 1, 1, ..., 1, 1, 1], dtype=int64)"
      ]
     },
     "execution_count": 25,
     "metadata": {},
     "output_type": "execute_result"
    }
   ],
   "source": [
    "from sklearn.cluster import AgglomerativeClustering\n",
    "\n",
    "cluster = AgglomerativeClustering(n_clusters=2, affinity='euclidean', linkage='ward')  \n",
    "cluster.fit_predict(Publi_facebook_scaled)"
   ]
  },
  {
   "cell_type": "markdown",
   "id": "8aafb775",
   "metadata": {},
   "source": [
    "# Exercici 3\n",
    "Calcula el rendiment del clustering mitjançant un paràmetre com pot ser silhouette."
   ]
  },
  {
   "cell_type": "code",
   "execution_count": 26,
   "id": "53366c9e",
   "metadata": {},
   "outputs": [],
   "source": [
    "hiera_kwargs = {\n",
    "                'affinity':'euclidean',\n",
    "                'linkage':'ward',\n",
    "               }"
   ]
  },
  {
   "cell_type": "code",
   "execution_count": 33,
   "id": "245242b8",
   "metadata": {},
   "outputs": [],
   "source": [
    "# Fem la llista dels coeficients Silhoutte per cada k\n",
    "array_silhouette=np.zeros((9,5)) #inicialitzem l'arry amb zeros  \n",
    "\n",
    "# Fem un bucle per treure els valors de Silhoutte per cada model i dades d'entrada\n",
    "for k in range(0, 9):\n",
    "    kmeans_sca = KMeans(n_clusters=k+2, **kmeans_kwargs).fit(Publi_facebook_scaled)\n",
    "    kmeans_score_sca = silhouette_score(Publi_facebook_scaled, kmeans_sca.labels_)\n",
    "    \n",
    "    kmeans_pca = KMeans(n_clusters=k+2, **kmeans_kwargs).fit(Publi_facebook_pca)\n",
    "    kmeans_score_pca = silhouette_score(Publi_facebook_pca, kmeans_pca.labels_)   \n",
    "\n",
    "    hiera_sca = AgglomerativeClustering(n_clusters=k+2, **hiera_kwargs).fit(Publi_facebook_scaled)\n",
    "    hiera_score_sca = silhouette_score(Publi_facebook_scaled, hiera_sca.labels_)\n",
    "    \n",
    "    hiera_pca = AgglomerativeClustering(n_clusters=k+2, **hiera_kwargs).fit(Publi_facebook_pca)\n",
    "    hiera_score_pca = silhouette_score(Publi_facebook_pca, hiera_pca.labels_)   \n",
    "    \n",
    "    array_silhouette[k,0]=int(k+2)\n",
    "    array_silhouette[k,1]=kmeans_score_sca\n",
    "    array_silhouette[k,2]=kmeans_score_pca\n",
    "    array_silhouette[k,3]=hiera_score_sca\n",
    "    array_silhouette[k,4]=hiera_score_pca\n",
    "    "
   ]
  },
  {
   "cell_type": "code",
   "execution_count": 34,
   "id": "8267390d",
   "metadata": {},
   "outputs": [
    {
     "data": {
      "text/html": [
       "<div>\n",
       "<style scoped>\n",
       "    .dataframe tbody tr th:only-of-type {\n",
       "        vertical-align: middle;\n",
       "    }\n",
       "\n",
       "    .dataframe tbody tr th {\n",
       "        vertical-align: top;\n",
       "    }\n",
       "\n",
       "    .dataframe thead th {\n",
       "        text-align: right;\n",
       "    }\n",
       "</style>\n",
       "<table border=\"1\" class=\"dataframe\">\n",
       "  <thead>\n",
       "    <tr style=\"text-align: right;\">\n",
       "      <th></th>\n",
       "      <th>n-Clusters</th>\n",
       "      <th>K-means_Scaled</th>\n",
       "      <th>K-means_PCA</th>\n",
       "      <th>Hierar_Scaled</th>\n",
       "      <th>Hiera_PCA</th>\n",
       "    </tr>\n",
       "  </thead>\n",
       "  <tbody>\n",
       "    <tr>\n",
       "      <th>0</th>\n",
       "      <td>2</td>\n",
       "      <td>0.8879</td>\n",
       "      <td>0.8959</td>\n",
       "      <td>0.8809</td>\n",
       "      <td>0.9051</td>\n",
       "    </tr>\n",
       "    <tr>\n",
       "      <th>1</th>\n",
       "      <td>3</td>\n",
       "      <td>0.8519</td>\n",
       "      <td>0.8664</td>\n",
       "      <td>0.8733</td>\n",
       "      <td>0.8381</td>\n",
       "    </tr>\n",
       "    <tr>\n",
       "      <th>2</th>\n",
       "      <td>4</td>\n",
       "      <td>0.8238</td>\n",
       "      <td>0.8494</td>\n",
       "      <td>0.8022</td>\n",
       "      <td>0.8423</td>\n",
       "    </tr>\n",
       "    <tr>\n",
       "      <th>3</th>\n",
       "      <td>5</td>\n",
       "      <td>0.8318</td>\n",
       "      <td>0.8563</td>\n",
       "      <td>0.8074</td>\n",
       "      <td>0.8432</td>\n",
       "    </tr>\n",
       "    <tr>\n",
       "      <th>4</th>\n",
       "      <td>6</td>\n",
       "      <td>0.8193</td>\n",
       "      <td>0.8469</td>\n",
       "      <td>0.8099</td>\n",
       "      <td>0.8433</td>\n",
       "    </tr>\n",
       "    <tr>\n",
       "      <th>5</th>\n",
       "      <td>7</td>\n",
       "      <td>0.8147</td>\n",
       "      <td>0.8460</td>\n",
       "      <td>0.8106</td>\n",
       "      <td>0.8433</td>\n",
       "    </tr>\n",
       "    <tr>\n",
       "      <th>6</th>\n",
       "      <td>8</td>\n",
       "      <td>0.7778</td>\n",
       "      <td>0.8212</td>\n",
       "      <td>0.8127</td>\n",
       "      <td>0.8360</td>\n",
       "    </tr>\n",
       "    <tr>\n",
       "      <th>7</th>\n",
       "      <td>9</td>\n",
       "      <td>0.7775</td>\n",
       "      <td>0.8217</td>\n",
       "      <td>0.8117</td>\n",
       "      <td>0.8370</td>\n",
       "    </tr>\n",
       "    <tr>\n",
       "      <th>8</th>\n",
       "      <td>10</td>\n",
       "      <td>0.6746</td>\n",
       "      <td>0.8177</td>\n",
       "      <td>0.8118</td>\n",
       "      <td>0.8371</td>\n",
       "    </tr>\n",
       "  </tbody>\n",
       "</table>\n",
       "</div>"
      ],
      "text/plain": [
       "   n-Clusters  K-means_Scaled  K-means_PCA  Hierar_Scaled  Hiera_PCA\n",
       "0           2          0.8879       0.8959         0.8809     0.9051\n",
       "1           3          0.8519       0.8664         0.8733     0.8381\n",
       "2           4          0.8238       0.8494         0.8022     0.8423\n",
       "3           5          0.8318       0.8563         0.8074     0.8432\n",
       "4           6          0.8193       0.8469         0.8099     0.8433\n",
       "5           7          0.8147       0.8460         0.8106     0.8433\n",
       "6           8          0.7778       0.8212         0.8127     0.8360\n",
       "7           9          0.7775       0.8217         0.8117     0.8370\n",
       "8          10          0.6746       0.8177         0.8118     0.8371"
      ]
     },
     "execution_count": 34,
     "metadata": {},
     "output_type": "execute_result"
    }
   ],
   "source": [
    "metrics_df = pd.DataFrame( data = array_silhouette, columns = ['n-Clusters', 'K-means_Scaled', 'K-means_PCA', 'Hierar_Scaled', 'Hiera_PCA'])\n",
    "metrics_df['n-Clusters'] = metrics_df['n-Clusters'].astype('int')\n",
    "metrics_df.round(4)"
   ]
  },
  {
   "cell_type": "code",
   "execution_count": 35,
   "id": "b8b1e450",
   "metadata": {},
   "outputs": [
    {
     "data": {
      "image/png": "[encoded data removed]",
      "text/plain": [
       "<Figure size 576x432 with 1 Axes>"
      ]
     },
     "metadata": {
      "needs_background": "light"
     },
     "output_type": "display_data"
    }
   ],
   "source": [
    "import matplotlib.ticker as ticker\n",
    "\n",
    "columns_plot = ['K-means_Scaled', 'K-means_PCA', 'Hierar_Scaled', 'Hiera_PCA']\n",
    "\n",
    "fig, ax = plt.subplots(figsize=(8, 6))\n",
    "#ax.yaxis.set_major_formatter(ticker.EngFormatter())\n",
    "for each in columns_plot:\n",
    "    sns.lineplot(data = metrics_df, x = 'n-Clusters', y = each, label = str(each), ci = None)\n",
    "plt.ylabel(\"Silhouette Values\")\n",
    "plt.legend()\n",
    "plt.show()"
   ]
  },
  {
   "cell_type": "markdown",
   "id": "955818d4",
   "metadata": {},
   "source": [
    "**Conclusions:**  \n",
    "Segons els valors de Silhoutte, el millor resultat s'aconsegueix amb els models fets amb dades procesades amb PCA. A banda del K-means Scaled, els altres 3 comencen a prop del 0,90 i van baixant però s'estabilitzen a la franja 0.85-0.80.\n",
    "En els 4 models la conclussión seria que model de 2 clusters és el que millors resultats obté."
   ]
  }
 ],
 "metadata": {
  "kernelspec": {
   "display_name": "Python 3 (ipykernel)",
   "language": "python",
   "name": "python3"
  },
  "language_info": {
   "codemirror_mode": {
    "name": "ipython",
    "version": 3
   },
   "file_extension": ".py",
   "mimetype": "text/x-python",
   "name": "python",
   "nbconvert_exporter": "python",
   "pygments_lexer": "ipython3",
   "version": "3.9.12"
  }
 },
 "nbformat": 4,
 "nbformat_minor": 5
}
